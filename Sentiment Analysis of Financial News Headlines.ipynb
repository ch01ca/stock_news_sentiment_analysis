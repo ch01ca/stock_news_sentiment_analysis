{
 "cells": [
  {
   "cell_type": "code",
   "execution_count": 3,
   "metadata": {},
   "outputs": [],
   "source": [
    "%matplotlib widget"
   ]
  },
  {
   "cell_type": "code",
   "execution_count": 4,
   "metadata": {},
   "outputs": [
    {
     "name": "stderr",
     "output_type": "stream",
     "text": [
      "[nltk_data] Downloading package vader_lexicon to\n",
      "[nltk_data]     /Users/genius/nltk_data...\n",
      "[nltk_data]   Package vader_lexicon is already up-to-date!\n"
     ]
    }
   ],
   "source": [
    "# Import libraries\n",
    "from urllib.request import urlopen, Request\n",
    "from bs4 import BeautifulSoup\n",
    "import os\n",
    "import pandas as pd\n",
    "import matplotlib.pyplot as plt\n",
    "%matplotlib inline\n",
    "# NLTK VADER for sentiment analysis\n",
    "from nltk.sentiment.vader import SentimentIntensityAnalyzer\n",
    "\n",
    "import nltk\n",
    "nltk.downloader.download('vader_lexicon')\n",
    "\n",
    "finwiz_url = 'https://finviz.com/quote.ashx?t='"
   ]
  },
  {
   "cell_type": "code",
   "execution_count": 11,
   "metadata": {},
   "outputs": [],
   "source": [
    "news_tables = {}\n",
    "tickers = ['IWN','IWD','QQQ',]\n",
    "\n",
    "for ticker in tickers:\n",
    "    url = finwiz_url + ticker\n",
    "    req = Request(url=url,headers={'user-agent': 'my-app/0.0.1'}) \n",
    "    response = urlopen(req)    \n",
    "    # Read the contents of the file into 'html'\n",
    "    html = BeautifulSoup(response)\n",
    "    # Find 'news-table' in the Soup and load it into 'news_table'\n",
    "    news_table = html.find(id='news-table')\n",
    "    # Add the table to our dictionary\n",
    "    news_tables[ticker] = news_table"
   ]
  },
  {
   "cell_type": "code",
   "execution_count": 12,
   "metadata": {},
   "outputs": [
    {
     "name": "stdout",
     "output_type": "stream",
     "text": [
      "Stock market news live updates: Stock futures open slightly higher after mixed day on Wall Street\n",
      "Nov-10-20 06:28PM  \n",
      "Stock market news live updates: Stocks mixed as vaccine euphoria abates, tech selling continues\n",
      "04:05PM  \n",
      "The positive impacts of a COVID-19 vaccine will arrive before the vaccine: Morning Brief\n",
      "05:55AM  \n",
      "Stock market news live updates: Dow climbs 835 points to pare some gains after soaring to a record intraday high\n",
      "Nov-09-20 04:06PM  \n"
     ]
    }
   ],
   "source": [
    "# Read one single day of headlines for 'AMZN' \n",
    "amzn = news_tables['QQQ']\n",
    "# Get all the table rows tagged in HTML with <tr> into 'amzn_tr'\n",
    "amzn_tr = amzn.findAll('tr')\n",
    "\n",
    "for i, table_row in enumerate(amzn_tr):\n",
    "    # Read the text of the element 'a' into 'link_text'\n",
    "    a_text = table_row.a.text\n",
    "    # Read the text of the element 'td' into 'data_text'\n",
    "    td_text = table_row.td.text\n",
    "    # Print the contents of 'link_text' and 'data_text' \n",
    "    print(a_text)\n",
    "    print(td_text)\n",
    "    # Exit after printing 4 rows of data\n",
    "    if i == 3:\n",
    "        break"
   ]
  },
  {
   "cell_type": "code",
   "execution_count": 13,
   "metadata": {},
   "outputs": [],
   "source": [
    "parsed_news = []\n",
    "\n",
    "# Iterate through the news\n",
    "for file_name, news_table in news_tables.items():\n",
    "    # Iterate through all tr tags in 'news_table'\n",
    "    for x in news_table.findAll('tr'):\n",
    "        # read the text from each tr tag into text\n",
    "        # get text from a only\n",
    "        text = x.a.get_text() \n",
    "        # splite text in the td tag into a list \n",
    "        date_scrape = x.td.text.split()\n",
    "        # if the length of 'date_scrape' is 1, load 'time' as the only element\n",
    "\n",
    "        if len(date_scrape) == 1:\n",
    "            time = date_scrape[0]\n",
    "            \n",
    "        # else load 'date' as the 1st element and 'time' as the second    \n",
    "        else:\n",
    "            date = date_scrape[0]\n",
    "            time = date_scrape[1]\n",
    "        # Extract the ticker from the file name, get the string up to the 1st '_'  \n",
    "        ticker = file_name.split('_')[0]\n",
    "        \n",
    "        # Append ticker, date, time and headline as a list to the 'parsed_news' list\n",
    "        parsed_news.append([ticker, date, time, text])\n",
    "        \n",
    "# parsed_news"
   ]
  },
  {
   "cell_type": "code",
   "execution_count": 14,
   "metadata": {},
   "outputs": [
    {
     "data": {
      "text/html": [
       "<div>\n",
       "<style scoped>\n",
       "    .dataframe tbody tr th:only-of-type {\n",
       "        vertical-align: middle;\n",
       "    }\n",
       "\n",
       "    .dataframe tbody tr th {\n",
       "        vertical-align: top;\n",
       "    }\n",
       "\n",
       "    .dataframe thead th {\n",
       "        text-align: right;\n",
       "    }\n",
       "</style>\n",
       "<table border=\"1\" class=\"dataframe\">\n",
       "  <thead>\n",
       "    <tr style=\"text-align: right;\">\n",
       "      <th></th>\n",
       "      <th>ticker</th>\n",
       "      <th>date</th>\n",
       "      <th>time</th>\n",
       "      <th>headline</th>\n",
       "      <th>neg</th>\n",
       "      <th>neu</th>\n",
       "      <th>pos</th>\n",
       "      <th>compound</th>\n",
       "    </tr>\n",
       "  </thead>\n",
       "  <tbody>\n",
       "    <tr>\n",
       "      <th>0</th>\n",
       "      <td>IWN</td>\n",
       "      <td>2020-10-29</td>\n",
       "      <td>02:45PM</td>\n",
       "      <td>iShares Debuts Small Cap Value ETF</td>\n",
       "      <td>0.0</td>\n",
       "      <td>0.676</td>\n",
       "      <td>0.324</td>\n",
       "      <td>0.34</td>\n",
       "    </tr>\n",
       "    <tr>\n",
       "      <th>1</th>\n",
       "      <td>IWN</td>\n",
       "      <td>2020-04-23</td>\n",
       "      <td>02:11PM</td>\n",
       "      <td>Seth Klarman on 'Value Pretenders'</td>\n",
       "      <td>0.0</td>\n",
       "      <td>0.625</td>\n",
       "      <td>0.375</td>\n",
       "      <td>0.34</td>\n",
       "    </tr>\n",
       "    <tr>\n",
       "      <th>2</th>\n",
       "      <td>IWN</td>\n",
       "      <td>2020-01-28</td>\n",
       "      <td>07:19AM</td>\n",
       "      <td>Should WisdomTree U.S. SmallCap ETF (EES) Be o...</td>\n",
       "      <td>0.0</td>\n",
       "      <td>1.000</td>\n",
       "      <td>0.000</td>\n",
       "      <td>0.00</td>\n",
       "    </tr>\n",
       "    <tr>\n",
       "      <th>3</th>\n",
       "      <td>IWN</td>\n",
       "      <td>2020-01-06</td>\n",
       "      <td>06:28AM</td>\n",
       "      <td>Should WisdomTree U.S. SmallCap Fund (EES) Be ...</td>\n",
       "      <td>0.0</td>\n",
       "      <td>1.000</td>\n",
       "      <td>0.000</td>\n",
       "      <td>0.00</td>\n",
       "    </tr>\n",
       "    <tr>\n",
       "      <th>4</th>\n",
       "      <td>IWN</td>\n",
       "      <td>2019-12-11</td>\n",
       "      <td>08:38AM</td>\n",
       "      <td>Should WisdomTree U.S. SmallCap Fund (EES) Be ...</td>\n",
       "      <td>0.0</td>\n",
       "      <td>1.000</td>\n",
       "      <td>0.000</td>\n",
       "      <td>0.00</td>\n",
       "    </tr>\n",
       "  </tbody>\n",
       "</table>\n",
       "</div>"
      ],
      "text/plain": [
       "  ticker        date     time  \\\n",
       "0    IWN  2020-10-29  02:45PM   \n",
       "1    IWN  2020-04-23  02:11PM   \n",
       "2    IWN  2020-01-28  07:19AM   \n",
       "3    IWN  2020-01-06  06:28AM   \n",
       "4    IWN  2019-12-11  08:38AM   \n",
       "\n",
       "                                            headline  neg    neu    pos  \\\n",
       "0                 iShares Debuts Small Cap Value ETF  0.0  0.676  0.324   \n",
       "1                 Seth Klarman on 'Value Pretenders'  0.0  0.625  0.375   \n",
       "2  Should WisdomTree U.S. SmallCap ETF (EES) Be o...  0.0  1.000  0.000   \n",
       "3  Should WisdomTree U.S. SmallCap Fund (EES) Be ...  0.0  1.000  0.000   \n",
       "4  Should WisdomTree U.S. SmallCap Fund (EES) Be ...  0.0  1.000  0.000   \n",
       "\n",
       "   compound  \n",
       "0      0.34  \n",
       "1      0.34  \n",
       "2      0.00  \n",
       "3      0.00  \n",
       "4      0.00  "
      ]
     },
     "execution_count": 14,
     "metadata": {},
     "output_type": "execute_result"
    }
   ],
   "source": [
    "# Instantiate the sentiment intensity analyzer\n",
    "vader = SentimentIntensityAnalyzer()\n",
    "\n",
    "# Set column names\n",
    "columns = ['ticker', 'date', 'time', 'headline']\n",
    "\n",
    "# Convert the parsed_news list into a DataFrame called 'parsed_and_scored_news'\n",
    "parsed_and_scored_news = pd.DataFrame(parsed_news, columns=columns)\n",
    "\n",
    "# Iterate through the headlines and get the polarity scores using vader\n",
    "scores = parsed_and_scored_news['headline'].apply(vader.polarity_scores).tolist()\n",
    "\n",
    "# Convert the 'scores' list of dicts into a DataFrame\n",
    "scores_df = pd.DataFrame(scores)\n",
    "\n",
    "# Join the DataFrames of the news and the list of dicts\n",
    "parsed_and_scored_news = parsed_and_scored_news.join(scores_df, rsuffix='_right')\n",
    "\n",
    "# Convert the date column from string to datetime\n",
    "parsed_and_scored_news['date'] = pd.to_datetime(parsed_and_scored_news.date).dt.date\n",
    "\n",
    "parsed_and_scored_news.head(5)"
   ]
  },
  {
   "cell_type": "code",
   "execution_count": 15,
   "metadata": {},
   "outputs": [
    {
     "data": {
      "image/png": "[encoded data removed]",
      "text/plain": [
       "<Figure size 3600x432 with 1 Axes>"
      ]
     },
     "metadata": {
      "needs_background": "light"
     },
     "output_type": "display_data"
    }
   ],
   "source": [
    "plt.rcParams['figure.figsize'] = [50, 6]\n",
    "\n",
    "# Group by date and ticker columns from scored_news and calculate the mean\n",
    "mean_scores = parsed_and_scored_news.groupby(['ticker','date']).mean()\n",
    "\n",
    "# Unstack the column ticker\n",
    "mean_scores = mean_scores.unstack()\n",
    "\n",
    "# Get the cross-section of compound in the 'columns' axis\n",
    "mean_scores = mean_scores.xs('compound', axis=\"columns\").transpose()\n",
    "\n",
    "# Plot a bar chart with pandas\n",
    "mean_scores.plot(kind = 'bar')\n",
    "plt.grid()"
   ]
  },
  {
   "cell_type": "code",
   "execution_count": null,
   "metadata": {},
   "outputs": [],
   "source": []
  }
 ],
 "metadata": {
  "kernelspec": {
   "display_name": "Python 3",
   "language": "python",
   "name": "python3"
  },
  "language_info": {
   "codemirror_mode": {
    "name": "ipython",
    "version": 3
   },
   "file_extension": ".py",
   "mimetype": "text/x-python",
   "name": "python",
   "nbconvert_exporter": "python",
   "pygments_lexer": "ipython3",
   "version": "3.6.12"
  }
 },
 "nbformat": 4,
 "nbformat_minor": 4
}
